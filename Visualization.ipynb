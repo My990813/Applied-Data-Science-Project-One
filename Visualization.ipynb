{
 "cells": [
  {
   "cell_type": "code",
   "execution_count": 5,
   "metadata": {},
   "outputs": [],
   "source": [
    "import pandas as pd\n",
    "import numpy as np\n",
    "import matplotlib.pyplot as plt\n",
    "info = pd.read_csv(\"UpdatedNew_v1.csv\")\n",
    "review = pd.read_csv(\"newreview.csv\")"
   ]
  },
  {
   "cell_type": "markdown",
   "metadata": {},
   "source": [
    "### `country` and `type` are redundant columns, so delete them:"
   ]
  },
  {
   "cell_type": "code",
   "execution_count": 2,
   "metadata": {},
   "outputs": [],
   "source": [
    "info.drop(['Unnamed: 0', 'country', 'type'], axis=1, inplace=True)"
   ]
  },
  {
   "cell_type": "markdown",
   "metadata": {},
   "source": [
    "### transform `duarion` to counted in minutes"
   ]
  },
  {
   "cell_type": "code",
   "execution_count": 3,
   "metadata": {},
   "outputs": [],
   "source": [
    "info['duration'] = info.duration / 60"
   ]
  },
  {
   "cell_type": "code",
   "execution_count": 4,
   "metadata": {},
   "outputs": [
    {
     "data": {
      "text/html": [
       "<div>\n",
       "<style scoped>\n",
       "    .dataframe tbody tr th:only-of-type {\n",
       "        vertical-align: middle;\n",
       "    }\n",
       "\n",
       "    .dataframe tbody tr th {\n",
       "        vertical-align: top;\n",
       "    }\n",
       "\n",
       "    .dataframe thead th {\n",
       "        text-align: right;\n",
       "    }\n",
       "</style>\n",
       "<table border=\"1\" class=\"dataframe\">\n",
       "  <thead>\n",
       "    <tr style=\"text-align: right;\">\n",
       "      <th></th>\n",
       "      <th>kdrama_id</th>\n",
       "      <th>drama_name</th>\n",
       "      <th>year</th>\n",
       "      <th>director</th>\n",
       "      <th>screenwriter</th>\n",
       "      <th>tot_eps</th>\n",
       "      <th>duration</th>\n",
       "      <th>start_dt</th>\n",
       "      <th>end_dt</th>\n",
       "      <th>aired_on</th>\n",
       "      <th>org_net</th>\n",
       "      <th>content_rt</th>\n",
       "      <th>synopsis</th>\n",
       "      <th>rank</th>\n",
       "      <th>pop</th>\n",
       "    </tr>\n",
       "  </thead>\n",
       "  <tbody>\n",
       "    <tr>\n",
       "      <th>0</th>\n",
       "      <td>661d4193916c4e71a2c70473ab11e9e8</td>\n",
       "      <td>Sing My Crush</td>\n",
       "      <td>2023</td>\n",
       "      <td>['So Joon Moon']</td>\n",
       "      <td>['Lee Do Ah']</td>\n",
       "      <td>8</td>\n",
       "      <td>25.0</td>\n",
       "      <td>08-02-2023</td>\n",
       "      <td>08-02-2023</td>\n",
       "      <td>Wednesday</td>\n",
       "      <td>NaN</td>\n",
       "      <td>Not Yet Rated</td>\n",
       "      <td>Follow the story of acquaintances Ba Ram and H...</td>\n",
       "      <td>1484</td>\n",
       "      <td>2238</td>\n",
       "    </tr>\n",
       "    <tr>\n",
       "      <th>1</th>\n",
       "      <td>5ffcbeaa17114714af1959129984274c</td>\n",
       "      <td>D.P. Season 2</td>\n",
       "      <td>2023</td>\n",
       "      <td>['Han Jun hee']</td>\n",
       "      <td>['Kim Bo Tong']</td>\n",
       "      <td>6</td>\n",
       "      <td>50.0</td>\n",
       "      <td>07-28-2023</td>\n",
       "      <td>07-28-2023</td>\n",
       "      <td>Friday</td>\n",
       "      <td>Netflix</td>\n",
       "      <td>15+ - Teens 15 or older</td>\n",
       "      <td>This unfolding story ensues when military dese...</td>\n",
       "      <td>164</td>\n",
       "      <td>1084</td>\n",
       "    </tr>\n",
       "    <tr>\n",
       "      <th>2</th>\n",
       "      <td>65075cb9c1a54be4a441cee6f16c9fdf</td>\n",
       "      <td>Shadow Detective Season 2</td>\n",
       "      <td>2023</td>\n",
       "      <td>['Han Dong Hwa']</td>\n",
       "      <td>['Song Jung Woo', 'Hwang Seol Hun']</td>\n",
       "      <td>8</td>\n",
       "      <td>55.0</td>\n",
       "      <td>07-05-2023</td>\n",
       "      <td>07-26-2023</td>\n",
       "      <td>Wednesday</td>\n",
       "      <td>Disney+ Hulu</td>\n",
       "      <td>15+ - Teens 15 or older</td>\n",
       "      <td>Unfolds the ultimate counterattack of veteran ...</td>\n",
       "      <td>2443</td>\n",
       "      <td>6915</td>\n",
       "    </tr>\n",
       "    <tr>\n",
       "      <th>3</th>\n",
       "      <td>04c1fe41948e464fb440001831d74d41</td>\n",
       "      <td>Celebrity</td>\n",
       "      <td>2023</td>\n",
       "      <td>['Kim Chul Gyu']</td>\n",
       "      <td>['Kim Yi Young']</td>\n",
       "      <td>12</td>\n",
       "      <td>45.0</td>\n",
       "      <td>06-30-2023</td>\n",
       "      <td>06-30-2023</td>\n",
       "      <td>Friday</td>\n",
       "      <td>Netflix</td>\n",
       "      <td>18+ Restricted (violence &amp; profanity)</td>\n",
       "      <td>Fame. Money. Power. One young woman fights to ...</td>\n",
       "      <td>826</td>\n",
       "      <td>547</td>\n",
       "    </tr>\n",
       "    <tr>\n",
       "      <th>4</th>\n",
       "      <td>e632ba76285f438d9448852dd31bcd96</td>\n",
       "      <td>Numbers</td>\n",
       "      <td>2023</td>\n",
       "      <td>['Kim Chil Bong']</td>\n",
       "      <td>['Oh Hye Seok', 'Jung An']</td>\n",
       "      <td>12</td>\n",
       "      <td>60.0</td>\n",
       "      <td>06-23-2023</td>\n",
       "      <td>07-29-2023</td>\n",
       "      <td>Friday, Saturday</td>\n",
       "      <td>MBC</td>\n",
       "      <td>15+ - Teens 15 or older</td>\n",
       "      <td>Ho Woo is the first and only high school gradu...</td>\n",
       "      <td>2685</td>\n",
       "      <td>1546</td>\n",
       "    </tr>\n",
       "  </tbody>\n",
       "</table>\n",
       "</div>"
      ],
      "text/plain": [
       "                          kdrama_id                 drama_name  year  \\\n",
       "0  661d4193916c4e71a2c70473ab11e9e8              Sing My Crush  2023   \n",
       "1  5ffcbeaa17114714af1959129984274c              D.P. Season 2  2023   \n",
       "2  65075cb9c1a54be4a441cee6f16c9fdf  Shadow Detective Season 2  2023   \n",
       "3  04c1fe41948e464fb440001831d74d41                  Celebrity  2023   \n",
       "4  e632ba76285f438d9448852dd31bcd96                    Numbers  2023   \n",
       "\n",
       "            director                         screenwriter  tot_eps  duration  \\\n",
       "0   ['So Joon Moon']                        ['Lee Do Ah']        8      25.0   \n",
       "1    ['Han Jun hee']                      ['Kim Bo Tong']        6      50.0   \n",
       "2   ['Han Dong Hwa']  ['Song Jung Woo', 'Hwang Seol Hun']        8      55.0   \n",
       "3   ['Kim Chul Gyu']                     ['Kim Yi Young']       12      45.0   \n",
       "4  ['Kim Chil Bong']           ['Oh Hye Seok', 'Jung An']       12      60.0   \n",
       "\n",
       "     start_dt      end_dt          aired_on       org_net  \\\n",
       "0  08-02-2023  08-02-2023         Wednesday           NaN   \n",
       "1  07-28-2023  07-28-2023            Friday       Netflix   \n",
       "2  07-05-2023  07-26-2023         Wednesday  Disney+ Hulu   \n",
       "3  06-30-2023  06-30-2023            Friday       Netflix   \n",
       "4  06-23-2023  07-29-2023  Friday, Saturday           MBC   \n",
       "\n",
       "                              content_rt  \\\n",
       "0                          Not Yet Rated   \n",
       "1                15+ - Teens 15 or older   \n",
       "2                15+ - Teens 15 or older   \n",
       "3  18+ Restricted (violence & profanity)   \n",
       "4                15+ - Teens 15 or older   \n",
       "\n",
       "                                            synopsis  rank   pop  \n",
       "0  Follow the story of acquaintances Ba Ram and H...  1484  2238  \n",
       "1  This unfolding story ensues when military dese...   164  1084  \n",
       "2  Unfolds the ultimate counterattack of veteran ...  2443  6915  \n",
       "3  Fame. Money. Power. One young woman fights to ...   826   547  \n",
       "4  Ho Woo is the first and only high school gradu...  2685  1546  "
      ]
     },
     "execution_count": 4,
     "metadata": {},
     "output_type": "execute_result"
    }
   ],
   "source": [
    "info.head()"
   ]
  },
  {
   "cell_type": "markdown",
   "metadata": {},
   "source": [
    "### visualization 0: distribution of each single attribute"
   ]
  },
  {
   "cell_type": "code",
   "execution_count": 11,
   "metadata": {},
   "outputs": [
    {
     "data": {
      "text/plain": [
       "rank    int64\n",
       "pop     int64\n",
       "dtype: object"
      ]
     },
     "execution_count": 11,
     "metadata": {},
     "output_type": "execute_result"
    }
   ],
   "source": [
    "info[['rank', 'pop']].dtypes"
   ]
  },
  {
   "cell_type": "markdown",
   "metadata": {},
   "source": [
    "### visualization 1: scatter plot of rank v.s. pop"
   ]
  },
  {
   "cell_type": "code",
   "execution_count": 12,
   "metadata": {},
   "outputs": [
    {
     "data": {
      "text/plain": [
       "Text(0, 0.5, 'popularity')"
      ]
     },
     "execution_count": 12,
     "metadata": {},
     "output_type": "execute_result"
    },
    {
     "data": {
      "image/png": "[encoded data removed]",
      "text/plain": [
       "<Figure size 640x480 with 1 Axes>"
      ]
     },
     "metadata": {},
     "output_type": "display_data"
    }
   ],
   "source": [
    "plt.scatter(info['rank'], info['pop'])\n",
    "plt.title('Visualization of ranking VS popularity')\n",
    "plt.xlabel('ranking')\n",
    "plt.ylabel('popularity')"
   ]
  }
 ],
 "metadata": {
  "kernelspec": {
   "display_name": "base",
   "language": "python",
   "name": "python3"
  },
  "language_info": {
   "codemirror_mode": {
    "name": "ipython",
    "version": 3
   },
   "file_extension": ".py",
   "mimetype": "text/x-python",
   "name": "python",
   "nbconvert_exporter": "python",
   "pygments_lexer": "ipython3",
   "version": "3.12.4"
  }
 },
 "nbformat": 4,
 "nbformat_minor": 2
}
